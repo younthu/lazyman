{
 "cells": [
  {
   "cell_type": "markdown",
   "metadata": {},
   "source": [
    "# 批量生成祝福语\n",
    "\n",
    "过年过节的时候我们会批量发邮件或者短信，或者微信消息。 群发的时候如果能在每个人的消息里面提到那个人的名字或者昵称会倍增亲切感。\n",
    "\n",
    "手动一个一个去编辑名字是件非常痛苦的事情。实际上，借助简单的python脚本我们就可以通过模板快速实现批量生成定制邮件的功能。\n",
    "\n",
    "这次的脚本要用到模板库jinja2, 所以大家需要先安装库'jinja2', 通过下面的命令可以安装'jinja2':\n",
    "~~~\n",
    "    pip install Jinja2\n",
    "~~~"
   ]
  },
  {
   "cell_type": "code",
   "execution_count": 2,
   "metadata": {
    "collapsed": true
   },
   "outputs": [],
   "source": [
    "from jinja2 import Template"
   ]
  },
  {
   "cell_type": "code",
   "execution_count": 16,
   "metadata": {},
   "outputs": [
    {
     "name": "stdout",
     "output_type": "stream",
     "text": [
      "春节到，Lazy Man祝高科技项目\n",
      "一帆风顺，\n",
      "二龙腾飞，\n",
      "三羊开泰，\n",
      "四季平安，\n",
      "五福临门，\n",
      "六六大顺，\n",
      "七星高照，\n",
      "八方来财，\n",
      "九九同心，\n",
      "十全十美。\n"
     ]
    }
   ],
   "source": [
    "template = Template('''春节到，{{_from}}祝{{to}}\n",
    "一帆风顺，\n",
    "二龙腾飞，\n",
    "三羊开泰，\n",
    "四季平安，\n",
    "五福临门，\n",
    "六六大顺，\n",
    "七星高照，\n",
    "八方来财，\n",
    "九九同心，\n",
    "十全十美。''')\n",
    "t = template.render(_from='Lazy Man', to='高科技项目')\n",
    "print(t)\n"
   ]
  },
  {
   "cell_type": "code",
   "execution_count": 20,
   "metadata": {},
   "outputs": [
    {
     "name": "stdout",
     "output_type": "stream",
     "text": [
      "春节到，阿牛哥祝小丽\n",
      "一帆风顺，\n",
      "二龙腾飞，\n",
      "三羊开泰，\n",
      "四季平安，\n",
      "五福临门，\n",
      "六六大顺，\n",
      "七星高照，\n",
      "八方来财，\n",
      "九九同心，\n",
      "十全十美。\n",
      "\n",
      "春节到，哥哥祝弟弟小勇\n",
      "一帆风顺，\n",
      "二龙腾飞，\n",
      "三羊开泰，\n",
      "四季平安，\n",
      "五福临门，\n",
      "六六大顺，\n",
      "七星高照，\n",
      "八方来财，\n",
      "九九同心，\n",
      "十全十美。\n",
      "\n",
      "春节到，爸爸祝女儿\n",
      "一帆风顺，\n",
      "二龙腾飞，\n",
      "三羊开泰，\n",
      "四季平安，\n",
      "五福临门，\n",
      "六六大顺，\n",
      "七星高照，\n",
      "八方来财，\n",
      "九九同心，\n",
      "十全十美。\n",
      "\n",
      "春节到，杨白劳祝冯老板\n",
      "一帆风顺，\n",
      "二龙腾飞，\n",
      "三羊开泰，\n",
      "四季平安，\n",
      "五福临门，\n",
      "六六大顺，\n",
      "七星高照，\n",
      "八方来财，\n",
      "九九同心，\n",
      "十全十美。\n",
      "\n"
     ]
    }
   ],
   "source": [
    "for from_to in [('阿牛哥', '小丽'), ('哥哥', '弟弟小勇'), ('爸爸', '女儿'), ('杨白劳','冯老板')]:\n",
    "    print(template.render(_from=from_to[0], to=from_to[1]))\n",
    "    print(\"\")"
   ]
  },
  {
   "cell_type": "markdown",
   "metadata": {
    "collapsed": true
   },
   "source": [
    "像这样的祝福发出去，你的`小丽`是不是会非常开心呢？"
   ]
  },
  {
   "cell_type": "code",
   "execution_count": null,
   "metadata": {
    "collapsed": true
   },
   "outputs": [],
   "source": []
  }
 ],
 "metadata": {
  "kernelspec": {
   "display_name": "Python 3",
   "language": "python",
   "name": "python3"
  },
  "language_info": {
   "codemirror_mode": {
    "name": "ipython",
    "version": 3
   },
   "file_extension": ".py",
   "mimetype": "text/x-python",
   "name": "python",
   "nbconvert_exporter": "python",
   "pygments_lexer": "ipython3",
   "version": "3.6.1"
  }
 },
 "nbformat": 4,
 "nbformat_minor": 2
}
