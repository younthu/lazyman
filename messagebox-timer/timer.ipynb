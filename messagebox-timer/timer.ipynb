{
 "cells": [
  {
   "cell_type": "markdown",
   "metadata": {},
   "source": [
    "在计算机系统里面定时是最重要的功能之一。在我们日常生活中定时，倒计时功能也是不可缺少的功能。\n",
    "比如定时起身运动，定时喝水，定时扭脖子，定时吃饭，定时发邮件，定时提醒，etc。\n",
    "\n",
    "今天我们给大家带来的是定时弹出消息框的功能。在定时弹出消息框的基础上相信大家可以扩展出无限的定时功能.\n"
   ]
  },
  {
   "cell_type": "markdown",
   "metadata": {},
   "source": [
    "我们今天用到的UI库是python下Tk GUI的封装tkinter. python3 默认包含了tkinter，所以不需要额外安装python GUI包。\n",
    "我们本例子中会每隔10秒钟提示一次吃药，总共提示3次。\n",
    "定时器使用sched, 也不需要额外安装包。"
   ]
  },
  {
   "cell_type": "code",
   "execution_count": 2,
   "metadata": {},
   "outputs": [
    {
     "name": "stdout",
     "output_type": "stream",
     "text": [
      "1551107756.3644679\n",
      "ok\n",
      "ok\n",
      "ok\n",
      "ok\n",
      "1551107801.7597451\n"
     ]
    }
   ],
   "source": [
    "import tkinter as tk\n",
    "from tkinter import messagebox        #引入弹窗库\n",
    "import time  \n",
    "import sched  # 定时器\n",
    "\n",
    "window=tk.Tk()\n",
    "# window.title('该吃药了')\n",
    "# window.geometry('500x600')\n",
    " \n",
    "def hit_me():\n",
    "    #tc1=messagebox.askokcancel(title='hello',message='hello word') #弹窗 return True/False\n",
    "    #print (tc1)\n",
    "    #tc2=messagebox.askquestion(title='hello',message='hello word') #return yes/no\n",
    "    #print (tc2)\n",
    "    tc3=messagebox.showinfo(title='吃药吧',message='吃了药就好了！')  # return ok\n",
    "    print (tc3)\n",
    "# tk.Button(window,text='你打我呀!',command=hit_me).pack()\n",
    "schedule = sched.scheduler ( time.time, time.sleep ) \n",
    "print(time.time())\n",
    "schedule.enter(10,0,hit_me)  \n",
    "schedule.enter(20,0,hit_me)  \n",
    "schedule.enter(30,0,hit_me)  \n",
    "schedule.enter(40,0,hit_me)  \n",
    "schedule.run()  \n",
    "print(time.time())\n",
    "window.mainloop()"
   ]
  },
  {
   "cell_type": "code",
   "execution_count": null,
   "metadata": {},
   "outputs": [],
   "source": [
    " \n",
    "  \n"
   ]
  },
  {
   "cell_type": "code",
   "execution_count": null,
   "metadata": {
    "collapsed": true
   },
   "outputs": [],
   "source": []
  }
 ],
 "metadata": {
  "kernelspec": {
   "display_name": "Python 3",
   "language": "python",
   "name": "python3"
  },
  "language_info": {
   "codemirror_mode": {
    "name": "ipython",
    "version": 3
   },
   "file_extension": ".py",
   "mimetype": "text/x-python",
   "name": "python",
   "nbconvert_exporter": "python",
   "pygments_lexer": "ipython3",
   "version": "3.6.1"
  }
 },
 "nbformat": 4,
 "nbformat_minor": 2
}
